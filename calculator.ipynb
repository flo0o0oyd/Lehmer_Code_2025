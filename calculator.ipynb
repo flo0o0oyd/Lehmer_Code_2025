{
 "cells": [
  {
   "cell_type": "code",
   "execution_count": 32,
   "id": "61cc40ce",
   "metadata": {},
   "outputs": [],
   "source": [
    "def dyck_size(path):\n",
    "    return path.count(\"U\")\n",
    "\n",
    "def is_primitive_dyck(path):\n",
    "    # A Dyck path is primitive if it only touches the horizontal axis at the ends\n",
    "    height = 0\n",
    "    for i in range(len(path) - 1):\n",
    "        if path[i] == \"U\":\n",
    "            height += 1\n",
    "        else:\n",
    "            height -= 1\n",
    "        if height == 0:\n",
    "            return False\n",
    "    return True\n",
    "\n",
    "def split_last_primitive(path):\n",
    "    # Split Dyck path into Q and R, where R is the last primitive Dyck path\n",
    "    height = 0\n",
    "    for i in range(len(path)-1, -1, -1):\n",
    "        if path[i] == \"D\":\n",
    "            height += 1\n",
    "        else:\n",
    "            height -= 1\n",
    "        if height == 0:\n",
    "            return path[:i], path[i:]\n",
    "    return \"\", path  # shouldn't happen unless path is primitive\n",
    "\n",
    "def addall(code, n):\n",
    "    return [x + n for x in code]\n",
    "\n",
    "def addallnz(code,n):\n",
    "    return [x + n if x != 0 else 0 for x in code]"
   ]
  },
  {
   "cell_type": "code",
   "execution_count": 14,
   "id": "121f79df",
   "metadata": {},
   "outputs": [],
   "source": [
    "#132 calculator\n",
    "def calc132(path):\n",
    "    if path == \"UD\":\n",
    "        return [0]\n",
    "    \n",
    "    if is_primitive_dyck(path):\n",
    "        R = path[1:-1]\n",
    "        return [dyck_size(path)-1] + calc132(R)\n",
    "    else:\n",
    "        Q, R = split_last_primitive(path)\n",
    "        size_R = dyck_size(R)\n",
    "        return (addall(calc132(Q),size_R-1)) + calc132(R) #clearly have flush property"
   ]
  },
  {
   "cell_type": "code",
   "execution_count": 17,
   "id": "6390e084",
   "metadata": {},
   "outputs": [
    {
     "data": {
      "text/plain": [
       "[2, 2, 2, 1, 1, 0]"
      ]
     },
     "execution_count": 17,
     "metadata": {},
     "output_type": "execute_result"
    }
   ],
   "source": [
    "calc132(\"UDUDUUDDUUDD\")"
   ]
  },
  {
   "cell_type": "code",
   "execution_count": 18,
   "id": "71458b9d",
   "metadata": {},
   "outputs": [],
   "source": [
    "#213 calculator\n",
    "def calc213(path):\n",
    "    if path == \"UD\":\n",
    "        return [0]\n",
    "    \n",
    "    if is_primitive_dyck(path):\n",
    "        R = path[1:-1]\n",
    "        return [0] + calc213(R)\n",
    "    else:\n",
    "        Q, R = split_last_primitive(path)\n",
    "        size_R = dyck_size(R)\n",
    "        return (addall(calc213(Q),size_R)) + calc213(R) #clearly have flush property"
   ]
  },
  {
   "cell_type": "code",
   "execution_count": 20,
   "id": "03277f17",
   "metadata": {},
   "outputs": [
    {
     "data": {
      "text/plain": [
       "[3, 2, 0, 0]"
      ]
     },
     "execution_count": 20,
     "metadata": {},
     "output_type": "execute_result"
    }
   ],
   "source": [
    "calc213(\"UDUDUUDD\")"
   ]
  },
  {
   "cell_type": "code",
   "execution_count": 23,
   "id": "f0fe50e8",
   "metadata": {},
   "outputs": [],
   "source": [
    "#231 calculator\n",
    "def calc231(path):\n",
    "    if path == \"UD\":\n",
    "        return [0]\n",
    "    \n",
    "    if is_primitive_dyck(path):\n",
    "        R = path[1:-1]\n",
    "        return [dyck_size(path)-1] + calc231(R) #here flush, prove inductively\n",
    "    else:\n",
    "        Q, R = split_last_primitive(path)\n",
    "        size_R = dyck_size(R)\n",
    "        return calc231(Q) + calc231(R) #but here clearly not, there's 0 in calc231(Q)"
   ]
  },
  {
   "cell_type": "code",
   "execution_count": 26,
   "id": "36db544e",
   "metadata": {},
   "outputs": [
    {
     "data": {
      "text/plain": [
       "[4, 0, 0, 1, 0]"
      ]
     },
     "execution_count": 26,
     "metadata": {},
     "output_type": "execute_result"
    }
   ],
   "source": [
    "calc231(\"UUDUDUUDDD\")"
   ]
  },
  {
   "cell_type": "code",
   "execution_count": 27,
   "id": "c12ee4dd",
   "metadata": {},
   "outputs": [],
   "source": [
    "#312 calculator\n",
    "def calc312(path):\n",
    "    if path == \"UD\":\n",
    "        return [0]\n",
    "    \n",
    "    if is_primitive_dyck(path):\n",
    "        R = path[1:-1]\n",
    "        return addall(calc312(R),1)+[0] #here clearly flush\n",
    "    else:\n",
    "        Q, R = split_last_primitive(path)\n",
    "        size_R = dyck_size(R)\n",
    "        return calc312(Q) + calc312(R) #but here clearly not, there's 0 in calc312(Q)"
   ]
  },
  {
   "cell_type": "code",
   "execution_count": 31,
   "id": "51fbf75d",
   "metadata": {},
   "outputs": [
    {
     "data": {
      "text/plain": [
       "[1, 2, 1, 0]"
      ]
     },
     "execution_count": 31,
     "metadata": {},
     "output_type": "execute_result"
    }
   ],
   "source": [
    "calc312(\"UUDUUDDD\")"
   ]
  },
  {
   "cell_type": "code",
   "execution_count": 35,
   "id": "30b8c470",
   "metadata": {},
   "outputs": [],
   "source": [
    "#321 calculator\n",
    "def calc321(path):\n",
    "    if path == \"UD\":\n",
    "        return [0]\n",
    "    \n",
    "    if is_primitive_dyck(path):\n",
    "        R = path[1:-1]\n",
    "        return [1]+calc321(R) #here clearly flush\n",
    "    else:\n",
    "        Q, R = split_last_primitive(path)\n",
    "        size_R = dyck_size(R)\n",
    "        return addallnz(calc321(Q),1) + calc321(R) #but here clearly not, there's 0 in calc312(Q)"
   ]
  },
  {
   "cell_type": "code",
   "execution_count": 37,
   "id": "4dfce516",
   "metadata": {},
   "outputs": [
    {
     "data": {
      "text/plain": [
       "[3, 0, 0, 0]"
      ]
     },
     "execution_count": 37,
     "metadata": {},
     "output_type": "execute_result"
    }
   ],
   "source": [
    "calc321(\"UUDDUDUD\")"
   ]
  },
  {
   "cell_type": "code",
   "execution_count": null,
   "id": "59c8035c",
   "metadata": {},
   "outputs": [],
   "source": []
  }
 ],
 "metadata": {
  "kernelspec": {
   "display_name": "SageMath 10.6",
   "language": "sage",
   "name": "sagemath-10.6"
  },
  "language_info": {
   "codemirror_mode": {
    "name": "ipython",
    "version": 3
   },
   "file_extension": ".py",
   "mimetype": "text/x-python",
   "name": "python",
   "nbconvert_exporter": "python",
   "pygments_lexer": "ipython3",
   "version": "3.12.5"
  }
 },
 "nbformat": 4,
 "nbformat_minor": 5
}
