{
 "cells": [
  {
   "cell_type": "code",
   "execution_count": 1,
   "id": "76b5df6a-3fbc-4e70-8c0d-f65fb9bf263b",
   "metadata": {},
   "outputs": [],
   "source": [
    "a123 = [1,2,3]\n",
    "a132 = [1,3,2]\n",
    "a213 = [2,1,3]\n",
    "a231 = [2,3,1]\n",
    "a312 = [3,1,2]\n",
    "a321 = [3,2,1]\n",
    "\n",
    "def findavoid(n,pt, d='c'):\n",
    "    pattern = []\n",
    "    code = []\n",
    "    for p in Permutations(n):\n",
    "        if p.avoids(pt):\n",
    "            pattern.append(p)\n",
    "            code.append(p.to_lehmer_code())\n",
    "    if d=='pa':\n",
    "        return pattern\n",
    "    if d=='c':\n",
    "        return code\n",
    "    if d=='l':\n",
    "        return len(pattern)\n",
    "\n",
    "def findpat(n,pt,d):\n",
    "    pattern = []\n",
    "    code = []\n",
    "    for p in Permutations(n):\n",
    "        if p.has_pattern([1,2,3]):\n",
    "            pattern.append(p)\n",
    "            code.append(p.to_lehmer_code())\n",
    "    if d==\"pa\":\n",
    "        return pattern\n",
    "    if d=='c':\n",
    "        return code\n",
    "    if d=='l':\n",
    "        return len(pattern)"
   ]
  },
  {
   "cell_type": "code",
   "execution_count": 3,
   "id": "735c29fb-d96e-4488-975b-51d31a6acc1b",
   "metadata": {},
   "outputs": [],
   "source": [
    "def checkhas(seq,checkpt):\n",
    "    n = len(seq)\n",
    "    if checkpt == \"123\":\n",
    "        for j in range(n):\n",
    "            for k in range(j):\n",
    "                for i in range(k):\n",
    "                    if seq[i] < seq[k] < seq[j]:\n",
    "                        return True\n",
    "    if checkpt == \"132\":\n",
    "        for j in range(n):\n",
    "            for k in range(j):\n",
    "                for i in range(k):\n",
    "                    if seq[i] < seq[j] < seq[k]:\n",
    "                        return True\n",
    "    if checkpt ==\"213\":\n",
    "        for j in range(n):\n",
    "            for k in range(j):\n",
    "                for i in range(k):\n",
    "                    if seq[k] < seq[i] < seq[j]:\n",
    "                        return True\n",
    "    if checkpt == \"231\":\n",
    "        for j in range(n):\n",
    "            for k in range(j):\n",
    "                for i in range(k):\n",
    "                    if seq[j] < seq[i] < seq[k]:\n",
    "                        return True\n",
    "    if checkpt == \"312\":\n",
    "        for j in range(n):\n",
    "            for k in range(j):\n",
    "                for i in range(k):\n",
    "                    if seq[k] < seq[j] < seq[i]:\n",
    "                        return True\n",
    "    if checkpt == \"321\":\n",
    "        for j in range(n):\n",
    "            for k in range(j):\n",
    "                for i in range(k):\n",
    "                    if seq[j] < seq[k] < seq[i]:\n",
    "                        return True\n",
    "    if checkpt == \"011\":\n",
    "        for j in range(n):\n",
    "            for k in range(j):\n",
    "                for i in range(k):\n",
    "                    if seq[i] < seq[k] == seq[j]:\n",
    "                        return True\n",
    "    if checkpt == \"001\":\n",
    "        for j in range(n):\n",
    "            for k in range(j):\n",
    "                for i in range(k):\n",
    "                    if seq[i] == seq[k] < seq[j]:\n",
    "                        return True\n",
    "    if checkpt == \"010\":\n",
    "        for j in range(n):\n",
    "            for k in range(j):\n",
    "                for i in range(k):\n",
    "                    if seq[i] == seq[j] < seq[k]:\n",
    "                        return True\n",
    "    if checkpt == \"100\":\n",
    "        for j in range(n):\n",
    "            for k in range(j):\n",
    "                for i in range(k):\n",
    "                    if seq[k] == seq[j] < seq[i]:\n",
    "                        return True\n",
    "    if checkpt == \"110\":\n",
    "        for j in range(n):\n",
    "            for k in range(j):\n",
    "                for i in range(k):\n",
    "                    if seq[j] < seq[k] == seq[i]:\n",
    "                        return True\n",
    "    if checkpt == \"101\":\n",
    "        for j in range(n):\n",
    "            for k in range(j):\n",
    "                for i in range(k):\n",
    "                    if seq[k] < seq[j] == seq[i]:\n",
    "                        return True\n",
    "    if checkpt == \"01\":\n",
    "        for j in range(n):\n",
    "            for k in range(j):\n",
    "                if seq[k] < seq[j]:\n",
    "                    return True\n",
    "    if checkpt == \"10\":\n",
    "        for j in range(n):\n",
    "            for k in range(j):\n",
    "                if seq[j] < seq[k]:\n",
    "                    return True\n",
    "    return False"
   ]
  },
  {
   "cell_type": "code",
   "execution_count": 6,
   "id": "bb3dccb5-3550-4fc6-9c4d-f9e8a85e2af0",
   "metadata": {},
   "outputs": [
    {
     "name": "stdout",
     "output_type": "stream",
     "text": [
      "Checking pattern avoidance for: [1, 2, 3]\n",
      "001 pattern is False for all n = 6 pa = [1, 2, 3]\n",
      "010 pattern is True for some n = 6 pa = [1, 2, 3]\n",
      "011 pattern is False for all n = 6 pa = [1, 2, 3]\n",
      "100 pattern is True for some n = 6 pa = [1, 2, 3]\n",
      "101 pattern is True for some n = 6 pa = [1, 2, 3]\n",
      "110 pattern is True for some n = 6 pa = [1, 2, 3]\n",
      "123 pattern is False for all n = 6 pa = [1, 2, 3]\n",
      "132 pattern is True for some n = 6 pa = [1, 2, 3]\n",
      "213 pattern is True for some n = 6 pa = [1, 2, 3]\n",
      "231 pattern is True for some n = 6 pa = [1, 2, 3]\n",
      "312 pattern is True for some n = 6 pa = [1, 2, 3]\n",
      "321 pattern is True for some n = 6 pa = [1, 2, 3]\n",
      "Checking pattern avoidance for: [1, 3, 2]\n",
      "001 pattern is False for all n = 6 pa = [1, 3, 2]\n",
      "010 pattern is False for all n = 6 pa = [1, 3, 2]\n",
      "011 pattern is False for all n = 6 pa = [1, 3, 2]\n",
      "100 pattern is True for some n = 6 pa = [1, 3, 2]\n",
      "101 pattern is False for all n = 6 pa = [1, 3, 2]\n",
      "110 pattern is True for some n = 6 pa = [1, 3, 2]\n",
      "123 pattern is False for all n = 6 pa = [1, 3, 2]\n",
      "132 pattern is False for all n = 6 pa = [1, 3, 2]\n",
      "213 pattern is False for all n = 6 pa = [1, 3, 2]\n",
      "231 pattern is False for all n = 6 pa = [1, 3, 2]\n",
      "312 pattern is False for all n = 6 pa = [1, 3, 2]\n",
      "321 pattern is True for some n = 6 pa = [1, 3, 2]\n",
      "Checking pattern avoidance for: [2, 1, 3]\n",
      "001 pattern is True for some n = 6 pa = [2, 1, 3]\n",
      "010 pattern is True for some n = 6 pa = [2, 1, 3]\n",
      "011 pattern is True for some n = 6 pa = [2, 1, 3]\n",
      "100 pattern is True for some n = 6 pa = [2, 1, 3]\n",
      "101 pattern is False for all n = 6 pa = [2, 1, 3]\n",
      "110 pattern is True for some n = 6 pa = [2, 1, 3]\n",
      "123 pattern is True for some n = 6 pa = [2, 1, 3]\n",
      "132 pattern is True for some n = 6 pa = [2, 1, 3]\n",
      "213 pattern is False for all n = 6 pa = [2, 1, 3]\n",
      "231 pattern is True for some n = 6 pa = [2, 1, 3]\n",
      "312 pattern is True for some n = 6 pa = [2, 1, 3]\n",
      "321 pattern is True for some n = 6 pa = [2, 1, 3]\n",
      "Checking pattern avoidance for: [2, 3, 1]\n",
      "001 pattern is True for some n = 6 pa = [2, 3, 1]\n",
      "010 pattern is True for some n = 6 pa = [2, 3, 1]\n",
      "011 pattern is True for some n = 6 pa = [2, 3, 1]\n",
      "100 pattern is True for some n = 6 pa = [2, 3, 1]\n",
      "101 pattern is True for some n = 6 pa = [2, 3, 1]\n",
      "110 pattern is True for some n = 6 pa = [2, 3, 1]\n",
      "123 pattern is True for some n = 6 pa = [2, 3, 1]\n",
      "132 pattern is True for some n = 6 pa = [2, 3, 1]\n",
      "213 pattern is True for some n = 6 pa = [2, 3, 1]\n",
      "231 pattern is True for some n = 6 pa = [2, 3, 1]\n",
      "312 pattern is True for some n = 6 pa = [2, 3, 1]\n",
      "321 pattern is True for some n = 6 pa = [2, 3, 1]\n",
      "Checking pattern avoidance for: [3, 1, 2]\n",
      "001 pattern is True for some n = 6 pa = [3, 1, 2]\n",
      "010 pattern is True for some n = 6 pa = [3, 1, 2]\n",
      "011 pattern is True for some n = 6 pa = [3, 1, 2]\n",
      "100 pattern is True for some n = 6 pa = [3, 1, 2]\n",
      "101 pattern is True for some n = 6 pa = [3, 1, 2]\n",
      "110 pattern is True for some n = 6 pa = [3, 1, 2]\n",
      "123 pattern is True for some n = 6 pa = [3, 1, 2]\n",
      "132 pattern is True for some n = 6 pa = [3, 1, 2]\n",
      "213 pattern is True for some n = 6 pa = [3, 1, 2]\n",
      "231 pattern is True for some n = 6 pa = [3, 1, 2]\n",
      "312 pattern is True for some n = 6 pa = [3, 1, 2]\n",
      "321 pattern is True for some n = 6 pa = [3, 1, 2]\n",
      "Checking pattern avoidance for: [3, 2, 1]\n",
      "001 pattern is True for some n = 6 pa = [3, 2, 1]\n",
      "010 pattern is True for some n = 6 pa = [3, 2, 1]\n",
      "011 pattern is True for some n = 6 pa = [3, 2, 1]\n",
      "100 pattern is True for some n = 6 pa = [3, 2, 1]\n",
      "101 pattern is True for some n = 6 pa = [3, 2, 1]\n",
      "110 pattern is True for some n = 6 pa = [3, 2, 1]\n",
      "123 pattern is True for some n = 6 pa = [3, 2, 1]\n",
      "132 pattern is True for some n = 6 pa = [3, 2, 1]\n",
      "213 pattern is True for some n = 6 pa = [3, 2, 1]\n",
      "231 pattern is True for some n = 6 pa = [3, 2, 1]\n",
      "312 pattern is True for some n = 6 pa = [3, 2, 1]\n",
      "321 pattern is True for some n = 6 pa = [3, 2, 1]\n"
     ]
    }
   ],
   "source": [
    "def lehmercodepat(n, pa, checkpt):\n",
    "    for p in findavoid(n, pa, \"c\"):\n",
    "        if checkhas(p, checkpt):\n",
    "            print(checkpt, \"pattern is True for some n =\", n, \"pa =\", pa)\n",
    "            break\n",
    "    else:\n",
    "        print(checkpt, \"pattern is False for all n =\", n, \"pa =\", pa)\n",
    "\n",
    "testn = 6\n",
    "avdrange = [a123, a132, a213, a231, a312, a321]\n",
    "checrange = [\"001\", \"010\", \"011\", \"100\", \"101\", \"110\",\"123\",\"132\",\"213\",\"231\",\"312\",\"321\"]\n",
    "\n",
    "for pa in avdrange:\n",
    "    print(\"Checking pattern avoidance for:\", pa)\n",
    "    for checkpt in checrange:\n",
    "        lehmercodepat(testn, pa, checkpt)\n"
   ]
  },
  {
   "cell_type": "code",
   "execution_count": 7,
   "id": "01f29c65-e2c5-462c-aa68-1e08cfa6813a",
   "metadata": {},
   "outputs": [
    {
     "name": "stdout",
     "output_type": "stream",
     "text": [
      "Checking pattern avoidance for: [1, 2, 3]\n",
      "001 pattern is False for some n = 6 pa = [1, 2, 3]\n",
      "010 pattern is False for some n = 6 pa = [1, 2, 3]\n",
      "011 pattern is False for some n = 6 pa = [1, 2, 3]\n",
      "100 pattern is False for some n = 6 pa = [1, 2, 3]\n",
      "101 pattern is False for some n = 6 pa = [1, 2, 3]\n",
      "110 pattern is False for some n = 6 pa = [1, 2, 3]\n",
      "123 pattern is False for some n = 6 pa = [1, 2, 3]\n",
      "132 pattern is False for some n = 6 pa = [1, 2, 3]\n",
      "213 pattern is False for some n = 6 pa = [1, 2, 3]\n",
      "231 pattern is False for some n = 6 pa = [1, 2, 3]\n",
      "312 pattern is False for some n = 6 pa = [1, 2, 3]\n",
      "321 pattern is True for all n = 6 pa = [1, 2, 3]\n",
      "Checking pattern avoidance for: [1, 3, 2]\n",
      "001 pattern is False for some n = 6 pa = [1, 3, 2]\n",
      "010 pattern is False for some n = 6 pa = [1, 3, 2]\n",
      "011 pattern is False for some n = 6 pa = [1, 3, 2]\n",
      "100 pattern is False for some n = 6 pa = [1, 3, 2]\n",
      "101 pattern is False for some n = 6 pa = [1, 3, 2]\n",
      "110 pattern is False for some n = 6 pa = [1, 3, 2]\n",
      "123 pattern is False for some n = 6 pa = [1, 3, 2]\n",
      "132 pattern is False for some n = 6 pa = [1, 3, 2]\n",
      "213 pattern is False for some n = 6 pa = [1, 3, 2]\n",
      "231 pattern is False for some n = 6 pa = [1, 3, 2]\n",
      "312 pattern is False for some n = 6 pa = [1, 3, 2]\n",
      "321 pattern is False for some n = 6 pa = [1, 3, 2]\n",
      "Checking pattern avoidance for: [2, 1, 3]\n",
      "001 pattern is False for some n = 6 pa = [2, 1, 3]\n",
      "010 pattern is False for some n = 6 pa = [2, 1, 3]\n",
      "011 pattern is False for some n = 6 pa = [2, 1, 3]\n",
      "100 pattern is False for some n = 6 pa = [2, 1, 3]\n",
      "101 pattern is False for some n = 6 pa = [2, 1, 3]\n",
      "110 pattern is False for some n = 6 pa = [2, 1, 3]\n",
      "123 pattern is False for some n = 6 pa = [2, 1, 3]\n",
      "132 pattern is False for some n = 6 pa = [2, 1, 3]\n",
      "213 pattern is False for some n = 6 pa = [2, 1, 3]\n",
      "231 pattern is False for some n = 6 pa = [2, 1, 3]\n",
      "312 pattern is False for some n = 6 pa = [2, 1, 3]\n",
      "321 pattern is False for some n = 6 pa = [2, 1, 3]\n",
      "Checking pattern avoidance for: [2, 3, 1]\n",
      "001 pattern is False for some n = 6 pa = [2, 3, 1]\n",
      "010 pattern is False for some n = 6 pa = [2, 3, 1]\n",
      "011 pattern is False for some n = 6 pa = [2, 3, 1]\n",
      "100 pattern is False for some n = 6 pa = [2, 3, 1]\n",
      "101 pattern is False for some n = 6 pa = [2, 3, 1]\n",
      "110 pattern is False for some n = 6 pa = [2, 3, 1]\n",
      "123 pattern is False for some n = 6 pa = [2, 3, 1]\n",
      "132 pattern is False for some n = 6 pa = [2, 3, 1]\n",
      "213 pattern is False for some n = 6 pa = [2, 3, 1]\n",
      "231 pattern is False for some n = 6 pa = [2, 3, 1]\n",
      "312 pattern is False for some n = 6 pa = [2, 3, 1]\n",
      "321 pattern is False for some n = 6 pa = [2, 3, 1]\n",
      "Checking pattern avoidance for: [3, 1, 2]\n",
      "001 pattern is False for some n = 6 pa = [3, 1, 2]\n",
      "010 pattern is False for some n = 6 pa = [3, 1, 2]\n",
      "011 pattern is False for some n = 6 pa = [3, 1, 2]\n",
      "100 pattern is False for some n = 6 pa = [3, 1, 2]\n",
      "101 pattern is False for some n = 6 pa = [3, 1, 2]\n",
      "110 pattern is False for some n = 6 pa = [3, 1, 2]\n",
      "123 pattern is False for some n = 6 pa = [3, 1, 2]\n",
      "132 pattern is False for some n = 6 pa = [3, 1, 2]\n",
      "213 pattern is False for some n = 6 pa = [3, 1, 2]\n",
      "231 pattern is False for some n = 6 pa = [3, 1, 2]\n",
      "312 pattern is False for some n = 6 pa = [3, 1, 2]\n",
      "321 pattern is False for some n = 6 pa = [3, 1, 2]\n",
      "Checking pattern avoidance for: [3, 2, 1]\n",
      "001 pattern is False for some n = 6 pa = [3, 2, 1]\n",
      "010 pattern is False for some n = 6 pa = [3, 2, 1]\n",
      "011 pattern is False for some n = 6 pa = [3, 2, 1]\n",
      "100 pattern is False for some n = 6 pa = [3, 2, 1]\n",
      "101 pattern is False for some n = 6 pa = [3, 2, 1]\n",
      "110 pattern is False for some n = 6 pa = [3, 2, 1]\n",
      "123 pattern is False for some n = 6 pa = [3, 2, 1]\n",
      "132 pattern is False for some n = 6 pa = [3, 2, 1]\n",
      "213 pattern is False for some n = 6 pa = [3, 2, 1]\n",
      "231 pattern is False for some n = 6 pa = [3, 2, 1]\n",
      "312 pattern is False for some n = 6 pa = [3, 2, 1]\n",
      "321 pattern is False for some n = 6 pa = [3, 2, 1]\n"
     ]
    }
   ],
   "source": [
    "def lehmercodepat2(n, pa, checkpt):\n",
    "    for p in findavoid(n, pa, \"c\"):\n",
    "        if not checkhas(p, checkpt):\n",
    "            print(checkpt, \"pattern is False for some n =\", n, \"pa =\", pa)\n",
    "            break\n",
    "    else:\n",
    "        print(checkpt, \"pattern is True for all n =\", n, \"pa =\", pa)\n",
    "\n",
    "testn = 6\n",
    "avdrange = [a123, a132, a213, a231, a312, a321]\n",
    "checrange = [\"001\", \"010\", \"011\", \"100\", \"101\", \"110\",\"123\",\"132\",\"213\",\"231\",\"312\",\"321\"]\n",
    "\n",
    "for pa in avdrange:\n",
    "   print(\"Checking pattern avoidance for:\", pa)\n",
    "   for checkpt in checrange:\n",
    "       lehmercodepat2(testn, pa, checkpt)"
   ]
  },
  {
   "cell_type": "code",
   "execution_count": 8,
   "id": "c42e743b-1e32-460c-bca0-ebc55ba2b058",
   "metadata": {},
   "outputs": [],
   "source": [
    "#4/24 Counting 0s under avoiding patterns"
   ]
  },
  {
   "cell_type": "code",
   "execution_count": 9,
   "id": "51caca46-da26-457a-8f25-527c8ccd486d",
   "metadata": {},
   "outputs": [
    {
     "name": "stdout",
     "output_type": "stream",
     "text": [
      "[1]\n",
      "[1, 1]\n",
      "[1, 3, 1]\n",
      "[1, 6, 6, 1]\n",
      "[1, 10, 20, 10, 1]\n",
      "[1, 15, 50, 50, 15, 1]\n",
      "[1, 21, 105, 175, 105, 21, 1]\n",
      "[1, 28, 196, 490, 490, 196, 28, 1]\n"
     ]
    }
   ],
   "source": [
    "#A001263: Triangle of Narayana numbers \n",
    "def numzero(n,pt):\n",
    "    count = []\n",
    "    countzero = []\n",
    "    for p in Permutations(n):\n",
    "        if p.avoids(pt):\n",
    "            codep = p.to_lehmer_code()\n",
    "            count.append(codep.count(0))\n",
    "            #print(codep.count(0))\n",
    "    #print(count)\n",
    "    for i in range(1,n+1):\n",
    "        countzero.append(count.count(i))\n",
    "    return countzero\n",
    "\n",
    "for i in range(1,9):\n",
    "    print(numzero(i,a321))"
   ]
  },
  {
   "cell_type": "code",
   "execution_count": 40,
   "id": "618a59b3-9665-41a3-94dc-a9a0c21fbff9",
   "metadata": {},
   "outputs": [
    {
     "name": "stdout",
     "output_type": "stream",
     "text": [
      "[1]\n",
      "[1, 1]\n",
      "[2, 3, 0]\n",
      "[5, 9, 0, 0]\n",
      "[14, 28, 0, 0, 0]\n",
      "[42, 90, 0, 0, 0, 0]\n",
      "[132, 297, 0, 0, 0, 0, 0]\n",
      "[429, 1001, 0, 0, 0, 0, 0, 0]\n"
     ]
    }
   ],
   "source": [
    "#Catalan for one 0, a(n) = 3*(2*n)!/((n+2)!*(n-1)!) for two 0s\n",
    "for i in range(1,9):\n",
    "    print(numzero(i,a123))"
   ]
  },
  {
   "cell_type": "code",
   "execution_count": 35,
   "id": "b60628a3-1a83-41b3-938f-5882da31be16",
   "metadata": {},
   "outputs": [
    {
     "name": "stdout",
     "output_type": "stream",
     "text": [
      "[1]\n",
      "[1, 1]\n",
      "[2, 2, 1]\n",
      "[5, 5, 3, 1]\n",
      "[14, 14, 9, 4, 1]\n",
      "[42, 42, 28, 14, 5, 1]\n",
      "[132, 132, 90, 48, 20, 6, 1]\n",
      "[429, 429, 297, 165, 75, 27, 7, 1]\n"
     ]
    }
   ],
   "source": [
    "#A033184: Catalan triangle A009766 transposed.\n",
    "for i in range(1,9):\n",
    "    print(numzero(i,a132))"
   ]
  },
  {
   "cell_type": "code",
   "execution_count": 32,
   "id": "2f2e434d-31c0-4157-8a09-3f50c79d20ad",
   "metadata": {},
   "outputs": [
    {
     "name": "stdout",
     "output_type": "stream",
     "text": [
      "[1]\n",
      "[1, 1]\n",
      "[2, 2, 1]\n",
      "[5, 5, 3, 1]\n",
      "[14, 14, 9, 4, 1]\n",
      "[42, 42, 28, 14, 5, 1]\n",
      "[132, 132, 90, 48, 20, 6, 1]\n",
      "[429, 429, 297, 165, 75, 27, 7, 1]\n"
     ]
    }
   ],
   "source": [
    "for i in range(1,9):\n",
    "    print(numzero(i,a213))"
   ]
  },
  {
   "cell_type": "code",
   "execution_count": 34,
   "id": "746fa549-e1b7-4ddb-bbb6-6a122cf16742",
   "metadata": {},
   "outputs": [
    {
     "name": "stdout",
     "output_type": "stream",
     "text": [
      "[1]\n",
      "[1, 1]\n",
      "[2, 2, 1]\n",
      "[5, 5, 3, 1]\n",
      "[14, 14, 9, 4, 1]\n",
      "[42, 42, 28, 14, 5, 1]\n",
      "[132, 132, 90, 48, 20, 6, 1]\n",
      "[429, 429, 297, 165, 75, 27, 7, 1]\n"
     ]
    }
   ],
   "source": [
    "for i in range(1,9):\n",
    "    print(numzero(i,a312))"
   ]
  },
  {
   "cell_type": "code",
   "execution_count": 10,
   "id": "818997fe-ce9f-4e2a-99df-842ce6c81020",
   "metadata": {},
   "outputs": [
    {
     "name": "stdout",
     "output_type": "stream",
     "text": [
      "[1]\n",
      "[1, 1]\n",
      "[1, 3, 1]\n",
      "[1, 6, 6, 1]\n",
      "[1, 10, 20, 10, 1]\n",
      "[1, 15, 50, 50, 15, 1]\n",
      "[1, 21, 105, 175, 105, 21, 1]\n",
      "[1, 28, 196, 490, 490, 196, 28, 1]\n"
     ]
    }
   ],
   "source": [
    "for i in range(1,9):\n",
    "    print(numzero(i,a231))"
   ]
  },
  {
   "cell_type": "code",
   "execution_count": 8,
   "id": "e7ad323b-8586-456f-8c9a-0dec80661c63",
   "metadata": {},
   "outputs": [
    {
     "name": "stdout",
     "output_type": "stream",
     "text": [
      "[[0, 0, 1, 1, 0], [0, 1, 0, 1, 0], [0, 1, 1, 0, 0], [0, 1, 2, 0, 0], [0, 2, 0, 1, 0], [0, 2, 2, 0, 0], [1, 0, 0, 1, 0], [1, 0, 1, 0, 0], [1, 0, 2, 0, 0], [1, 1, 0, 0, 0], [1, 2, 0, 0, 0], [1, 3, 0, 0, 0], [2, 0, 0, 1, 0], [2, 0, 1, 0, 0], [2, 0, 2, 0, 0], [2, 2, 0, 0, 0], [2, 3, 0, 0, 0], [3, 0, 0, 1, 0], [3, 0, 2, 0, 0], [3, 3, 0, 0, 0]]\n"
     ]
    }
   ],
   "source": [
    "onezerop = []\n",
    "for p in findavoid(5,a321,\"pa\"):\n",
    "    codep = p.to_lehmer_code()\n",
    "    if codep.count(0) == 3 :\n",
    "        onezerop.append(codep)\n",
    "print(onezerop)\n",
    "#the first column of A033184 is catalan because it is the permuation (with avoiding) on 2 to n. (They don't care the final \"1\".)\n",
    "#the first column of Triangle of Narayana is all \"1\" because the only case allow in these avoiding is all-increasing + 1 on the end."
   ]
  },
  {
   "cell_type": "code",
   "execution_count": 11,
   "id": "9f055f72-491e-4827-875e-ee903ba019a7",
   "metadata": {},
   "outputs": [
    {
     "name": "stdout",
     "output_type": "stream",
     "text": [
      "[[1, 2, 5, 4, 3], [1, 3, 2, 5, 4], [1, 4, 3, 2, 5], [1, 5, 2, 4, 3], [1, 5, 3, 2, 4], [1, 5, 4, 2, 3], [2, 1, 3, 5, 4], [2, 1, 4, 3, 5], [2, 1, 5, 3, 4], [3, 1, 2, 5, 4], [3, 2, 1, 4, 5], [4, 1, 3, 2, 5], [4, 2, 1, 3, 5], [4, 3, 1, 2, 5], [5, 1, 2, 4, 3], [5, 1, 3, 2, 4], [5, 1, 4, 2, 3], [5, 2, 1, 3, 4], [5, 3, 1, 2, 4], [5, 4, 1, 2, 3]]\n"
     ]
    }
   ],
   "source": [
    "onezerop2 = []\n",
    "for p in findavoid(5,a231,\"pa\"):\n",
    "    codep = p.to_lehmer_code()\n",
    "    if codep.count(0) == 3:\n",
    "        onezerop2.append(p)\n",
    "print(onezerop2)"
   ]
  },
  {
   "cell_type": "code",
   "execution_count": 13,
   "id": "ba4b48de-d3f3-4fdc-9ce3-a8e955813ddb",
   "metadata": {},
   "outputs": [
    {
     "name": "stdout",
     "output_type": "stream",
     "text": [
      "[1]\n",
      "[1, 1]\n",
      "[2, 3, 1]\n",
      "[6, 11, 6, 1]\n",
      "[24, 50, 35, 10, 1]\n",
      "[120, 274, 225, 85, 15, 1]\n",
      "[720, 1764, 1624, 735, 175, 21, 1]\n"
     ]
    }
   ],
   "source": [
    "def numzero222(n):\n",
    "    count = []\n",
    "    countzero = []\n",
    "    for p in Permutations(n):\n",
    "        codep = p.to_lehmer_code()\n",
    "        count.append(codep.count(0))\n",
    "    for i in range(1,n+1):\n",
    "        countzero.append(count.count(i))\n",
    "    return countzero\n",
    "\n",
    "for i in range(1,8):\n",
    "    print(numzero222(i))\n",
    "\n",
    "#Triangle T(n,k), 0 <= k <= n, read by rows, giving coefficients of the polynomial (x+1)(x+2)...(x+n), \n",
    "#expanded in increasing powers of x. T(n,k) is also the unsigned Stirling number |s(n+1, k+1)|, \n",
    "#denoting the number of permutations on n+1 elements that contain exactly k+1 cycles. Provable."
   ]
  },
  {
   "cell_type": "code",
   "execution_count": 54,
   "id": "6c784b16-4388-4ddc-88d5-f56d86592d3a",
   "metadata": {},
   "outputs": [
    {
     "name": "stdout",
     "output_type": "stream",
     "text": [
      "14\n"
     ]
    }
   ],
   "source": [
    "from itertools import product\n",
    "\n",
    "def countwdleh(n, k):\n",
    "    count = []\n",
    "    count2 = []\n",
    "    allsq = list(product(range(1,n), repeat=k))\n",
    "    for p in allsq:\n",
    "        if checkhas(p,\"01\") == False:\n",
    "            count.append(p)\n",
    "\n",
    "    for p in count:\n",
    "        for i in range(0,k):\n",
    "            if p[i] >= (n-i):\n",
    "                count2.append(p)\n",
    "    result = [x for x in count if x not in count2]\n",
    "                \n",
    "    return result\n",
    "\n",
    "print(len(countwdleh(6, 2)))"
   ]
  },
  {
   "cell_type": "code",
   "execution_count": 42,
   "id": "dc784820-9a23-4c92-8926-fdaa13c3c335",
   "metadata": {},
   "outputs": [
    {
     "name": "stdout",
     "output_type": "stream",
     "text": [
      "[1]\n",
      "[1, 1]\n",
      "[2, 2, 1]\n",
      "[5, 5, 3, 1]\n",
      "[14, 14, 9, 4, 1]\n",
      "[42, 42, 28, 14, 5, 1]\n",
      "[132, 132, 90, 48, 20, 6, 1]\n"
     ]
    }
   ],
   "source": [
    "#Close formula\n",
    "def Catalan(n, k):\n",
    "    return factorial(2*n - k-1) * (k) / (factorial(n-k) * factorial(n))\n",
    "triangle = [[Catalan(n, k) for k in range(1, n+1)] for n in range(1, 8)]\n",
    "for row in triangle:\n",
    "    print(row)"
   ]
  },
  {
   "cell_type": "code",
   "execution_count": 41,
   "id": "1f716c99-1f3c-4e3c-bacc-4236ce156189",
   "metadata": {},
   "outputs": [],
   "source": [
    "#5/16 Count the first digit"
   ]
  },
  {
   "cell_type": "code",
   "execution_count": 47,
   "id": "491a6a83-b530-4061-b24e-72b923027f6d",
   "metadata": {},
   "outputs": [
    {
     "name": "stdout",
     "output_type": "stream",
     "text": [
      "[1]\n",
      "[1, 1]\n",
      "[2, 2, 1]\n",
      "[5, 5, 3, 1]\n",
      "[14, 14, 9, 4, 1]\n",
      "[42, 42, 28, 14, 5, 1]\n",
      "[132, 132, 90, 48, 20, 6, 1]\n",
      "[429, 429, 297, 165, 75, 27, 7, 1]\n"
     ]
    }
   ],
   "source": [
    "def firstdigit(n, pt):\n",
    "    countfirst = [0] * n\n",
    "    for p in Permutations(n):\n",
    "        if p.avoids(pt):\n",
    "            codep = p.to_lehmer_code()\n",
    "            first = codep[0]\n",
    "            countfirst[first] += 1\n",
    "    return countfirst\n",
    "for i in range(1,9):\n",
    "    print(firstdigit(i,a321))"
   ]
  },
  {
   "cell_type": "code",
   "execution_count": 48,
   "id": "84b6e422-926d-4384-b019-4acd81ea3183",
   "metadata": {},
   "outputs": [
    {
     "name": "stdout",
     "output_type": "stream",
     "text": [
      "[1]\n",
      "[1, 1]\n",
      "[2, 2, 1]\n",
      "[5, 5, 3, 1]\n",
      "[14, 14, 9, 4, 1]\n",
      "[42, 42, 28, 14, 5, 1]\n",
      "[132, 132, 90, 48, 20, 6, 1]\n",
      "[429, 429, 297, 165, 75, 27, 7, 1]\n"
     ]
    }
   ],
   "source": [
    "for i in range(1,9):\n",
    "    print(firstdigit(i,a312))"
   ]
  },
  {
   "cell_type": "code",
   "execution_count": 49,
   "id": "c5d7df6d-8497-4ddd-bfad-e130446cc472",
   "metadata": {
    "scrolled": true
   },
   "outputs": [
    {
     "name": "stdout",
     "output_type": "stream",
     "text": [
      "[1]\n",
      "[1, 1]\n",
      "[1, 2, 2]\n",
      "[1, 3, 5, 5]\n",
      "[1, 4, 9, 14, 14]\n",
      "[1, 5, 14, 28, 42, 42]\n",
      "[1, 6, 20, 48, 90, 132, 132]\n",
      "[1, 7, 27, 75, 165, 297, 429, 429]\n"
     ]
    }
   ],
   "source": [
    "for i in range(1,9):\n",
    "    print(firstdigit(i,a123))"
   ]
  },
  {
   "cell_type": "code",
   "execution_count": 50,
   "id": "b2e9dc2a-4c4e-4ecb-820d-850fcd9f21a8",
   "metadata": {},
   "outputs": [
    {
     "name": "stdout",
     "output_type": "stream",
     "text": [
      "[1]\n",
      "[1, 1]\n",
      "[1, 2, 2]\n",
      "[1, 3, 5, 5]\n",
      "[1, 4, 9, 14, 14]\n",
      "[1, 5, 14, 28, 42, 42]\n",
      "[1, 6, 20, 48, 90, 132, 132]\n",
      "[1, 7, 27, 75, 165, 297, 429, 429]\n"
     ]
    }
   ],
   "source": [
    "for i in range(1,9):\n",
    "    print(firstdigit(i,a132))"
   ]
  },
  {
   "cell_type": "code",
   "execution_count": 51,
   "id": "22365636-b825-4cb5-bbd2-3df9a616bee8",
   "metadata": {
    "scrolled": true
   },
   "outputs": [
    {
     "name": "stdout",
     "output_type": "stream",
     "text": [
      "[1]\n",
      "[1, 1]\n",
      "[2, 1, 2]\n",
      "[5, 2, 2, 5]\n",
      "[14, 5, 4, 5, 14]\n",
      "[42, 14, 10, 10, 14, 42]\n",
      "[132, 42, 28, 25, 28, 42, 132]\n",
      "[429, 132, 84, 70, 70, 84, 132, 429]\n"
     ]
    }
   ],
   "source": [
    "for i in range(1,9):\n",
    "    print(firstdigit(i,a213))"
   ]
  },
  {
   "cell_type": "code",
   "execution_count": 52,
   "id": "04ed3b12-5c47-42c8-806e-07f4417b6ba4",
   "metadata": {},
   "outputs": [
    {
     "name": "stdout",
     "output_type": "stream",
     "text": [
      "[1]\n",
      "[1, 1]\n",
      "[2, 1, 2]\n",
      "[5, 2, 2, 5]\n",
      "[14, 5, 4, 5, 14]\n",
      "[42, 14, 10, 10, 14, 42]\n",
      "[132, 42, 28, 25, 28, 42, 132]\n",
      "[429, 132, 84, 70, 70, 84, 132, 429]\n"
     ]
    }
   ],
   "source": [
    "for i in range(1,9):\n",
    "    print(firstdigit(i,a231))"
   ]
  },
  {
   "cell_type": "code",
   "execution_count": 76,
   "id": "8dcba8b1-4f39-4c94-b5b5-aedaee342b34",
   "metadata": {},
   "outputs": [
    {
     "name": "stdout",
     "output_type": "stream",
     "text": [
      "[1]\n",
      "[1, 1]\n",
      "[2, 2, 2]\n",
      "[6, 6, 6, 6]\n",
      "[24, 24, 24, 24, 24]\n",
      "[120, 120, 120, 120, 120, 120]\n",
      "[720, 720, 720, 720, 720, 720, 720]\n"
     ]
    }
   ],
   "source": [
    "def firstdigit2(n):\n",
    "    countfirst = [0] * n\n",
    "    for p in Permutations(n):\n",
    "        codep = p.to_lehmer_code()\n",
    "        first = codep[0]\n",
    "        countfirst[first] += 1\n",
    "    return countfirst\n",
    "for i in range(1,8):\n",
    "    print(firstdigit2(i))"
   ]
  },
  {
   "cell_type": "code",
   "execution_count": 10,
   "id": "39ca2943-efd3-4206-89ed-0030644463b9",
   "metadata": {},
   "outputs": [
    {
     "name": "stdout",
     "output_type": "stream",
     "text": [
      "[3, 2, 1, 0]\n",
      "[3, 2, 0, 0]\n",
      "[3, 1, 1, 0]\n",
      "[3, 0, 1, 0]\n",
      "[3, 0, 0, 0]\n",
      "[2, 2, 1, 0]\n",
      "[2, 2, 0, 0]\n",
      "[1, 2, 1, 0]\n",
      "[1, 1, 1, 0]\n",
      "[0, 2, 1, 0]\n",
      "[0, 2, 0, 0]\n",
      "[0, 1, 1, 0]\n",
      "[0, 0, 1, 0]\n",
      "[0, 0, 0, 0]\n"
     ]
    }
   ],
   "source": [
    "for p in findavoid(4,a231,\"c\"):\n",
    "    pmax = [3,2,1,0]\n",
    "    p1 = [x - y for x, y in zip(pmax, p)]\n",
    "    print(p1)"
   ]
  },
  {
   "cell_type": "code",
   "execution_count": null,
   "id": "8beab78c-5243-4c96-87a7-f80f9495b9b9",
   "metadata": {},
   "outputs": [],
   "source": [
    "#Bijection we have:\n",
    "#Dyck path to permutation: 312 - zero of Permutation & return of dyck path\n",
    "                         #231 - first digit of Permutation &  first return length\n",
    "                        #213 - first digit of Permutation &  first return length\n",
    "                        #321 - zero of Permutation & peak of dyck path\n",
    "#Tree to permutation: 231 - zero of Permutation & leaves of tree"
   ]
  },
  {
   "cell_type": "code",
   "execution_count": 3,
   "id": "61c18794",
   "metadata": {},
   "outputs": [
    {
     "data": {
      "text/plain": [
       "[[0, 0, 0, 0, 0],\n",
       " [0, 0, 0, 1, 0],\n",
       " [0, 0, 1, 0, 0],\n",
       " [0, 0, 1, 1, 0],\n",
       " [0, 0, 2, 0, 0],\n",
       " [0, 1, 0, 0, 0],\n",
       " [0, 1, 0, 1, 0],\n",
       " [0, 1, 1, 0, 0],\n",
       " [0, 1, 1, 1, 0],\n",
       " [0, 1, 2, 0, 0],\n",
       " [0, 2, 0, 0, 0],\n",
       " [0, 2, 0, 1, 0],\n",
       " [0, 2, 2, 0, 0],\n",
       " [0, 3, 0, 0, 0],\n",
       " [1, 0, 0, 0, 0],\n",
       " [1, 0, 0, 1, 0],\n",
       " [1, 0, 1, 0, 0],\n",
       " [1, 0, 1, 1, 0],\n",
       " [1, 0, 2, 0, 0],\n",
       " [1, 1, 0, 0, 0],\n",
       " [1, 1, 0, 1, 0],\n",
       " [1, 1, 1, 0, 0],\n",
       " [1, 1, 1, 1, 0],\n",
       " [1, 1, 2, 0, 0],\n",
       " [1, 2, 0, 0, 0],\n",
       " [1, 2, 0, 1, 0],\n",
       " [1, 2, 2, 0, 0],\n",
       " [1, 3, 0, 0, 0],\n",
       " [2, 0, 0, 0, 0],\n",
       " [2, 0, 0, 1, 0],\n",
       " [2, 0, 1, 0, 0],\n",
       " [2, 0, 1, 1, 0],\n",
       " [2, 0, 2, 0, 0],\n",
       " [2, 2, 0, 0, 0],\n",
       " [2, 2, 0, 1, 0],\n",
       " [2, 2, 2, 0, 0],\n",
       " [2, 3, 0, 0, 0],\n",
       " [3, 0, 0, 0, 0],\n",
       " [3, 0, 0, 1, 0],\n",
       " [3, 0, 2, 0, 0],\n",
       " [3, 3, 0, 0, 0],\n",
       " [4, 0, 0, 0, 0]]"
      ]
     },
     "execution_count": 3,
     "metadata": {},
     "output_type": "execute_result"
    }
   ],
   "source": [
    "findavoid(5,a321,\"c\")"
   ]
  },
  {
   "cell_type": "code",
   "execution_count": null,
   "id": "3d408013",
   "metadata": {},
   "outputs": [],
   "source": []
  }
 ],
 "metadata": {
  "kernelspec": {
   "display_name": "SageMath 10.6",
   "language": "sage",
   "name": "sagemath-10.6"
  },
  "language_info": {
   "codemirror_mode": {
    "name": "ipython",
    "version": 3
   },
   "file_extension": ".py",
   "mimetype": "text/x-python",
   "name": "python",
   "nbconvert_exporter": "python",
   "pygments_lexer": "ipython3",
   "version": "3.12.5"
  }
 },
 "nbformat": 4,
 "nbformat_minor": 5
}
